{
  "nbformat": 4,
  "nbformat_minor": 0,
  "metadata": {
    "accelerator": "GPU",
    "colab": {
      "provenance": [],
      "collapsed_sections": [
        "dORA82ERqFJm"
      ],
      "include_colab_link": true
    },
    "kernelspec": {
      "display_name": "Python 3",
      "language": "python",
      "name": "python3"
    },
    "language_info": {
      "codemirror_mode": {
        "name": "ipython",
        "version": 3
      },
      "file_extension": ".py",
      "mimetype": "text/x-python",
      "name": "python",
      "nbconvert_exporter": "python",
      "pygments_lexer": "ipython3",
      "version": "3.7.1"
    },
    "gpuClass": "standard"
  },
  "cells": [
    {
      "cell_type": "markdown",
      "metadata": {
        "id": "view-in-github",
        "colab_type": "text"
      },
      "source": [
        "<a href=\"https://colab.research.google.com/github/Mkenza/project_DL/blob/master/Labs/TP4-MAKHLOUF-BMDATA2021-autoencoder.ipynb\" target=\"_parent\"><img src=\"https://colab.research.google.com/assets/colab-badge.svg\" alt=\"Open In Colab\"/></a>"
      ]
    },
    {
      "cell_type": "markdown",
      "metadata": {
        "id": "i7iguho0lDJL"
      },
      "source": [
        "# Autoencoders\n",
        "\n",
        "**Autoencoders** are a particular type of neural network that compresses the data into a **latent vector**, often denoted $z$ in literature, with the goal of preserving the opportunity to recreate the exact same image in the future. Because autoencoders learn representations instead of labels, autoencoders belong to representation learning, a subfield of machine learning, but not necessarily deep learning.\n",
        "\n",
        "## Architecture\n",
        "Autoencoders consist of two networks:\n",
        "\n",
        "* Encoder\n",
        "* Decoder\n",
        "\n",
        "The goal of the **encoder** is to compress an image, video, or any piece of data that can be represented as a tensor, into a _latent vector_. The **decoder** does, as you might have guessed, the exact opposite.\n",
        "\n",
        "To maximize performance, minimize the loss that is, encoders and decoders are typically symmetrical together. Naturally, the input size is equal to the output size of an autoencoder.\n",
        "\n",
        "Autoencoders always have less input neurons in the middle layer than in the input and output layer. This is called the **bottleneck**. If it weren't for this bottleneck, the autoencoders could just copy this data over from the input to the output layer without compressing it.\n",
        "\n",
        "![](https://upload.wikimedia.org/wikipedia/commons/2/28/Autoencoder_structure.png) [source](https://en.wikipedia.org/wiki/File:Autoencoder_structure.png)\n",
        "\n",
        "## Training\n",
        "\n",
        "Encoders and decoders _can_ be trained separately, but usually they are trained in one go. In order to do so, one stacks the coders together in one **stacked autoencoder**.\n",
        "\n",
        "If one desires to train autoencoders separately, one starts by using the first hidden layer, discaring every other layer, except for the input and output layers of course. He uses the original training data at this point. Next, he uses the latent vector $z$ learnt by this mini-autoencoder and trains another autoencoder in the same way, treating the latent vectors as original data. Once the desired depth is reached, one can stack all output layers, which provided the latent vectors, together in a sinle encoder. This approach is not used in practise a lot, but literature might refer to it as greedy layerwise training so it's good to know what it means.\n",
        "\n",
        "## Appliciations\n",
        "\n",
        "While the phase \"finding patterns\" might not seem very interesting, there are a lot of exciting applications of autoencoders. We will look at three of those today:\n",
        "\n",
        "1. Dense autoencoder: compressing data.\n",
        "2. Denoising autoencoder: removing noise from poor training data.\n",
        "3. Convolutional autoencoder: a building block of DCGANs, self-supervised learning.\n",
        "\n",
        "While all of these applications use pattern finding, they have different use cases making autoencoders one of the most exciting topics of machine learning."
      ]
    },
    {
      "cell_type": "code",
      "metadata": {
        "id": "ZDurKWtZd2ZK",
        "colab": {
          "base_uri": "https://localhost:8080/"
        },
        "outputId": "694f9a7b-f1fb-4504-87dc-8c3ccd76dcbe"
      },
      "source": [
        "%tensorflow_version 2.x"
      ],
      "execution_count": 2,
      "outputs": [
        {
          "output_type": "stream",
          "name": "stdout",
          "text": [
            "Colab only includes TensorFlow 2.x; %tensorflow_version has no effect.\n"
          ]
        }
      ]
    },
    {
      "cell_type": "code",
      "metadata": {
        "colab": {
          "base_uri": "https://localhost:8080/"
        },
        "id": "se3XrQkXfECV",
        "outputId": "44e067ab-e8a5-419e-8a89-a2f2c94ae285"
      },
      "source": [
        "%pylab inline"
      ],
      "execution_count": 3,
      "outputs": [
        {
          "output_type": "stream",
          "name": "stdout",
          "text": [
            "Populating the interactive namespace from numpy and matplotlib\n"
          ]
        }
      ]
    },
    {
      "cell_type": "code",
      "metadata": {
        "id": "xsajTokKd4ov"
      },
      "source": [
        "from tensorflow import keras"
      ],
      "execution_count": 4,
      "outputs": []
    },
    {
      "cell_type": "markdown",
      "metadata": {
        "id": "dORA82ERqFJm"
      },
      "source": [
        "## Loading the data\n",
        "\n",
        "We will load MNIST, but without labels because representation learning is **unsupervised**, or **self-supervised** which is the prefered term. (https://twitter.com/ylecun/status/1123235709802905600)"
      ]
    },
    {
      "cell_type": "code",
      "metadata": {
        "id": "xHjQztMZd9HA",
        "colab": {
          "base_uri": "https://localhost:8080/"
        },
        "outputId": "f5bddcaa-502e-4231-f5f6-cb8c49425571"
      },
      "source": [
        "(x_train, _), (x_test, _) = keras.datasets.mnist.load_data()\n",
        "x_train = x_train / 255\n",
        "x_test = x_test / 255"
      ],
      "execution_count": 5,
      "outputs": [
        {
          "output_type": "stream",
          "name": "stdout",
          "text": [
            "Downloading data from https://storage.googleapis.com/tensorflow/tf-keras-datasets/mnist.npz\n",
            "11490434/11490434 [==============================] - 2s 0us/step\n"
          ]
        }
      ]
    },
    {
      "cell_type": "markdown",
      "metadata": {
        "id": "N4nGDSzrqkRW"
      },
      "source": [
        "## A simple autoencoder\n",
        "\n",
        "Let's start by looking at the simplest possible autoencoder."
      ]
    },
    {
      "cell_type": "markdown",
      "metadata": {
        "id": "UzRueJz9uvk1"
      },
      "source": [
        "The `encoder` is a sequential neural network with $28 \\times 28$ input neurons, $100$ neurons in the second layer and $30$ in the third. The third layer is called the \"bottleneck\". Feel free to play around with this variable to see how it affects results."
      ]
    },
    {
      "cell_type": "code",
      "metadata": {
        "id": "2kWUdt_frO5q"
      },
      "source": [
        "encoder = keras.models.Sequential([\n",
        "    keras.layers.Flatten(input_shape=[28, 28]),\n",
        "    keras.layers.Dense(100, activation=\"relu\"),\n",
        "    keras.layers.Dense(30, activation=\"relu\"),\n",
        "])"
      ],
      "execution_count": 5,
      "outputs": []
    },
    {
      "cell_type": "markdown",
      "metadata": {
        "id": "pIQ5FsJ3v582"
      },
      "source": [
        "The decoder is the same, but in opposite order. Note that keras needs to know the input shape at this point. The input shape of the decoder is the shape of $z$, also called `zDim` as you will see later on."
      ]
    },
    {
      "cell_type": "code",
      "metadata": {
        "id": "MlY5WNZbrSlS"
      },
      "source": [
        "decoder = keras.models.Sequential([\n",
        "    keras.layers.Dense(100, activation=\"relu\", input_shape=[30]),\n",
        "    keras.layers.Dense(28 * 28, activation=\"sigmoid\"),\n",
        "    keras.layers.Reshape([28, 28])\n",
        "])"
      ],
      "execution_count": 6,
      "outputs": []
    },
    {
      "cell_type": "markdown",
      "metadata": {
        "id": "8Mjx4Dw-wOHZ"
      },
      "source": [
        "Now stack them for training:"
      ]
    },
    {
      "cell_type": "code",
      "metadata": {
        "id": "_kMXqirZrVQb"
      },
      "source": [
        "stacked_autoencoder = keras.models.Sequential([encoder, decoder])"
      ],
      "execution_count": null,
      "outputs": []
    },
    {
      "cell_type": "markdown",
      "metadata": {
        "id": "wm2YYO8pTlYA"
      },
      "source": [
        "Note that we use binary cross entropy loss in stead of categorical cross entropy. The reason for that is because we are not classifying latent vectors to belong to a particular class, we do not even have classes!, but rather are trying to predict whether a pixel should be activated or not."
      ]
    },
    {
      "cell_type": "code",
      "metadata": {
        "id": "L4vkX9Clrc2r"
      },
      "source": [
        "stacked_autoencoder.compile(loss=\"binary_crossentropy\",\n",
        "                   optimizer='adam')"
      ],
      "execution_count": null,
      "outputs": []
    },
    {
      "cell_type": "markdown",
      "metadata": {
        "id": "-lpf1TdWwgJ1"
      },
      "source": [
        "Notice how the $x$ and $y$, both $x$, `x_train` if you like, are equal:"
      ]
    },
    {
      "cell_type": "code",
      "metadata": {
        "colab": {
          "base_uri": "https://localhost:8080/",
          "height": 374
        },
        "id": "owK3LtUHd0Ue",
        "outputId": "0d03e83d-e9f7-4321-b75a-9bf6aaa2ee9b"
      },
      "source": [
        "history = stacked_autoencoder.fit(x_train, x_train, epochs=10,\n",
        "                                  validation_data=[x_test, x_test])"
      ],
      "execution_count": null,
      "outputs": [
        {
          "name": "stdout",
          "output_type": "stream",
          "text": [
            "Train on 60000 samples, validate on 10000 samples\n",
            "Epoch 1/10\n",
            "60000/60000 [==============================] - 5s 89us/sample - loss: 0.1465 - val_loss: 0.1075\n",
            "Epoch 2/10\n",
            "60000/60000 [==============================] - 5s 80us/sample - loss: 0.1032 - val_loss: 0.0983\n",
            "Epoch 3/10\n",
            "60000/60000 [==============================] - 5s 78us/sample - loss: 0.0981 - val_loss: 0.0950\n",
            "Epoch 4/10\n",
            "60000/60000 [==============================] - 5s 79us/sample - loss: 0.0955 - val_loss: 0.0932\n",
            "Epoch 5/10\n",
            "60000/60000 [==============================] - 5s 81us/sample - loss: 0.0935 - val_loss: 0.0919\n",
            "Epoch 6/10\n",
            "60000/60000 [==============================] - 5s 80us/sample - loss: 0.0921 - val_loss: 0.0903\n",
            "Epoch 7/10\n",
            "60000/60000 [==============================] - 5s 79us/sample - loss: 0.0910 - val_loss: 0.0897\n",
            "Epoch 8/10\n",
            "60000/60000 [==============================] - 5s 79us/sample - loss: 0.0902 - val_loss: 0.0886\n",
            "Epoch 9/10\n",
            "60000/60000 [==============================] - 5s 80us/sample - loss: 0.0894 - val_loss: 0.0882\n",
            "Epoch 10/10\n",
            "60000/60000 [==============================] - 5s 79us/sample - loss: 0.0887 - val_loss: 0.0879\n"
          ]
        }
      ]
    },
    {
      "cell_type": "markdown",
      "metadata": {
        "id": "FCfi-6Z1tf5B"
      },
      "source": [
        "Let's look at how the autoencoder reconstructs images."
      ]
    },
    {
      "cell_type": "code",
      "metadata": {
        "colab": {
          "base_uri": "https://localhost:8080/",
          "height": 317
        },
        "id": "E5-NbHh0sjXH",
        "outputId": "c203c4f5-24e2-461a-fca4-7e1a7020f0ba"
      },
      "source": [
        "figsize(20, 5)\n",
        "for i in range(8):\n",
        "  subplot(2, 8, i+1)\n",
        "  pred = stacked_autoencoder.predict(x_test[i].reshape((1, 28, 28)))\n",
        "  imshow(x_test[i], cmap=\"binary\")\n",
        "\n",
        "  subplot(2, 8, i+8+1)\n",
        "  imshow(pred.reshape((28, 28)), cmap=\"binary\")"
      ],
      "execution_count": null,
      "outputs": [
        {
          "data": {
            "image/png": "[encoded data removed]",
            "text/plain": [
              "<Figure size 1440x360 with 16 Axes>"
            ]
          },
          "metadata": {
            "tags": []
          },
          "output_type": "display_data"
        }
      ]
    },
    {
      "cell_type": "markdown",
      "metadata": {
        "id": "w76E3vV3tn0r"
      },
      "source": [
        "Just from this vector:"
      ]
    },
    {
      "cell_type": "code",
      "metadata": {
        "colab": {
          "base_uri": "https://localhost:8080/",
          "height": 230
        },
        "id": "xvJoqjSMtswx",
        "outputId": "64c393b3-4c55-42ca-8406-c53a480a8f6d"
      },
      "source": [
        "i = 0 # change this number\n",
        "\n",
        "figsize(10, 5)\n",
        "\n",
        "subplot(1, 3, 1)\n",
        "imshow(x_test[i], cmap=\"binary\")\n",
        "\n",
        "subplot(1, 3, 2)\n",
        "latent_vector = encoder.predict(x_test[i].reshape((1, 28, 28)))\n",
        "imshow(latent_vector, cmap=\"binary\")\n",
        "\n",
        "subplot(1, 3, 3)\n",
        "pred = decoder.predict(latent_vector)\n",
        "imshow(x_test[i], cmap=\"binary\")"
      ],
      "execution_count": null,
      "outputs": [
        {
          "data": {
            "text/plain": [
              "<matplotlib.image.AxesImage at 0x7f723daea320>"
            ]
          },
          "execution_count": 11,
          "metadata": {
            "tags": []
          },
          "output_type": "execute_result"
        },
        {
          "data": {
            "image/png": "[encoded data removed]",
            "text/plain": [
              "<Figure size 720x360 with 3 Axes>"
            ]
          },
          "metadata": {
            "tags": []
          },
          "output_type": "display_data"
        }
      ]
    },
    {
      "cell_type": "code",
      "metadata": {
        "colab": {
          "base_uri": "https://localhost:8080/",
          "height": 34
        },
        "id": "wIPUo_VZuXeA",
        "outputId": "91c91af5-5aa7-45b7-d049-ce550cf12537"
      },
      "source": [
        "30 / (28 * 28), 1 - 30 / (28 * 28)"
      ],
      "execution_count": null,
      "outputs": [
        {
          "data": {
            "text/plain": [
              "(0.03826530612244898, 0.9617346938775511)"
            ]
          },
          "execution_count": 12,
          "metadata": {
            "tags": []
          },
          "output_type": "execute_result"
        }
      ]
    },
    {
      "cell_type": "markdown",
      "metadata": {
        "id": "r-T-4saluaL9"
      },
      "source": [
        "That's 96.2% compression! Pretty amazing, huh?"
      ]
    },
    {
      "cell_type": "markdown",
      "metadata": {
        "id": "KJJCyS68jOCc"
      },
      "source": [
        "## Denoising autoencoder\n",
        "\n",
        "The last application of autoencoders we look at today are denoising autoencoders. You probably have no difficulty classifying the images below as 7's."
      ]
    },
    {
      "cell_type": "code",
      "metadata": {
        "id": "j6KK0q554Rcl"
      },
      "source": [
        "import numpy as np"
      ],
      "execution_count": null,
      "outputs": []
    },
    {
      "cell_type": "code",
      "metadata": {
        "colab": {
          "base_uri": "https://localhost:8080/",
          "height": 193
        },
        "id": "a8cPmRcS5NyE",
        "outputId": "863200e8-b498-445a-c9e4-f17c10aaafb7"
      },
      "source": [
        "figsize(5, 10)\n",
        "subplot(1, 2, 1)\n",
        "imshow(x_test[0], cmap=\"binary\")\n",
        "\n",
        "subplot(1, 2, 2)\n",
        "noise = np.random.random((28, 28)) / 4\n",
        "imshow(x_test[0] + noise, cmap=\"binary\")"
      ],
      "execution_count": null,
      "outputs": [
        {
          "data": {
            "text/plain": [
              "<matplotlib.image.AxesImage at 0x7f724215db00>"
            ]
          },
          "execution_count": 22,
          "metadata": {
            "tags": []
          },
          "output_type": "execute_result"
        },
        {
          "data": {
            "image/png": "[encoded data removed]",
            "text/plain": [
              "<Figure size 360x720 with 2 Axes>"
            ]
          },
          "metadata": {
            "tags": []
          },
          "output_type": "display_data"
        }
      ]
    },
    {
      "cell_type": "markdown",
      "metadata": {
        "id": "GGCm0rHw5trZ"
      },
      "source": [
        "But in machine learning, this noise can be catasrophic. Luckily machine learning also has a solution for this problem: auto encoders!\n",
        "\n",
        "By applying noise to the images inputted to the encoder and setting the clean image as desired output, $y$, an autoencoder can learn to remove noise from the image.\n",
        "\n",
        "Let's look at such an encoder:"
      ]
    },
    {
      "cell_type": "code",
      "metadata": {
        "id": "WA201-am6NLR"
      },
      "source": [
        "encoder = keras.models.Sequential([\n",
        "    keras.layers.Flatten(input_shape=[28, 28]),\n",
        "    keras.layers.Dense(100, activation=\"relu\"),\n",
        "    keras.layers.Dense(100, activation=\"relu\"),\n",
        "    keras.layers.Dense(30, activation=\"relu\")\n",
        "])"
      ],
      "execution_count": null,
      "outputs": []
    },
    {
      "cell_type": "code",
      "metadata": {
        "id": "95bcFg8t6QDW"
      },
      "source": [
        "decoder = keras.models.Sequential([\n",
        "    keras.layers.Dense(100, activation=\"relu\", input_shape=[30]),\n",
        "    keras.layers.Dense(100, activation=\"relu\"),\n",
        "    keras.layers.Dense(28 * 28, activation=\"sigmoid\"),\n",
        "    keras.layers.Reshape([28, 28])\n",
        "])"
      ],
      "execution_count": null,
      "outputs": []
    },
    {
      "cell_type": "code",
      "metadata": {
        "id": "gTjYSjnOjPBG"
      },
      "source": [
        "stacked_autoencoder = keras.models.Sequential([encoder, decoder])"
      ],
      "execution_count": null,
      "outputs": []
    },
    {
      "cell_type": "code",
      "metadata": {
        "id": "g7tml52yjT3R"
      },
      "source": [
        "stacked_autoencoder.compile(loss=\"binary_crossentropy\",\n",
        "                            optimizer='adam')"
      ],
      "execution_count": null,
      "outputs": []
    },
    {
      "cell_type": "markdown",
      "metadata": {
        "id": "BTf3Wm7o6b_L"
      },
      "source": [
        "Now create a dataset filled with noise:"
      ]
    },
    {
      "cell_type": "code",
      "metadata": {
        "id": "8bbboFnI6oep"
      },
      "source": [
        "x_train_noise = x_train + ((np.random.random(x_train.shape)) / 4)\n",
        "x_test_noise = x_test + ((np.random.random(x_test.shape)) / 4)"
      ],
      "execution_count": 22,
      "outputs": []
    },
    {
      "cell_type": "code",
      "metadata": {
        "colab": {
          "base_uri": "https://localhost:8080/",
          "height": 344
        },
        "id": "UqI_FLqk6u2S",
        "outputId": "f207acbb-d97e-4aa8-bb66-413a161cc967"
      },
      "source": [
        "imshow(x_train_noise[0], cmap=\"binary\")"
      ],
      "execution_count": null,
      "outputs": [
        {
          "data": {
            "text/plain": [
              "<matplotlib.image.AxesImage at 0x7f7242002b70>"
            ]
          },
          "execution_count": 28,
          "metadata": {
            "tags": []
          },
          "output_type": "execute_result"
        },
        {
          "data": {
            "image/png": "[encoded data removed]",
            "text/plain": [
              "<Figure size 360x720 with 1 Axes>"
            ]
          },
          "metadata": {
            "tags": []
          },
          "output_type": "display_data"
        }
      ]
    },
    {
      "cell_type": "markdown",
      "metadata": {
        "id": "kKG1VdhZVlD-"
      },
      "source": [
        "And finally train the stacked autoencoder with noise input data and clean output data."
      ]
    },
    {
      "cell_type": "code",
      "metadata": {
        "colab": {
          "base_uri": "https://localhost:8080/",
          "height": 374
        },
        "id": "xnJKMGy76Yy-",
        "outputId": "75e55f31-2fc4-44e7-a724-2daff8879db3"
      },
      "source": [
        "history = stacked_autoencoder.fit(x_train_noise, x_train, epochs=10,\n",
        "                                  validation_data=[x_test_noise, x_test])"
      ],
      "execution_count": null,
      "outputs": [
        {
          "name": "stdout",
          "output_type": "stream",
          "text": [
            "Train on 60000 samples, validate on 10000 samples\n",
            "Epoch 1/10\n",
            "60000/60000 [==============================] - 6s 93us/sample - loss: 0.1633 - val_loss: 0.1264\n",
            "Epoch 2/10\n",
            "60000/60000 [==============================] - 5s 87us/sample - loss: 0.1206 - val_loss: 0.1130\n",
            "Epoch 3/10\n",
            "60000/60000 [==============================] - 5s 87us/sample - loss: 0.1117 - val_loss: 0.1080\n",
            "Epoch 4/10\n",
            "60000/60000 [==============================] - 5s 87us/sample - loss: 0.1074 - val_loss: 0.1051\n",
            "Epoch 5/10\n",
            "60000/60000 [==============================] - 5s 86us/sample - loss: 0.1049 - val_loss: 0.1031\n",
            "Epoch 6/10\n",
            "60000/60000 [==============================] - 5s 86us/sample - loss: 0.1033 - val_loss: 0.1013\n",
            "Epoch 7/10\n",
            "60000/60000 [==============================] - 5s 87us/sample - loss: 0.1019 - val_loss: 0.1006\n",
            "Epoch 8/10\n",
            "60000/60000 [==============================] - 5s 86us/sample - loss: 0.1004 - val_loss: 0.0987\n",
            "Epoch 9/10\n",
            "60000/60000 [==============================] - 5s 87us/sample - loss: 0.0991 - val_loss: 0.0982\n",
            "Epoch 10/10\n",
            "60000/60000 [==============================] - 5s 85us/sample - loss: 0.0980 - val_loss: 0.0964\n"
          ]
        }
      ]
    },
    {
      "cell_type": "code",
      "metadata": {
        "colab": {
          "base_uri": "https://localhost:8080/",
          "height": 317
        },
        "id": "OxJe1PTtjZVL",
        "outputId": "316aec8a-0248-4779-bce8-d59ff8debc2b"
      },
      "source": [
        "figsize(20, 5)\n",
        "for i in range(8):\n",
        "  subplot(2, 8, i+1)\n",
        "  imshow(x_test_noise[i], cmap=\"binary\")\n",
        "\n",
        "  subplot(2, 8, i+8+1)\n",
        "  pred = stacked_autoencoder.predict(x_test_noise[i].reshape((1, 28, 28)))\n",
        "  imshow(pred.reshape((28, 28)), cmap=\"binary\")"
      ],
      "execution_count": null,
      "outputs": [
        {
          "data": {
            "image/png": "[encoded data removed]",
            "text/plain": [
              "<Figure size 1440x360 with 16 Axes>"
            ]
          },
          "metadata": {
            "tags": []
          },
          "output_type": "display_data"
        }
      ]
    },
    {
      "cell_type": "markdown",
      "metadata": {
        "id": "iDlKfkBX7cL_"
      },
      "source": [
        "Mindblowing!"
      ]
    },
    {
      "cell_type": "markdown",
      "metadata": {
        "id": "keJ8F0ljiqHQ"
      },
      "source": [
        "## Convolutional autoencoder\n",
        "\n",
        "Apart from data compression, autoencoders can also be used for self-supervised image classification.\n",
        "\n",
        "The first layers of the encoder learn to recognize patterns in the data very well in order to compress the data. If you don't have access to much labelled data, but a lot of unlabelled data, it's possible to train an autoencoder and copy the first layers from the autoencoder to the classifier network. This can be compared to transfer learning, where you only have to train the head afterwards.\n",
        "\n",
        "It is well known that convolutional layers are perfect for finding patterns in data, so it's good to know they can also be used in autoencoders. To \"de-convolve\" images in the decoder, transposed convolutional layers are used. For more information on transposed convolutional layers, checkout [this blog post](https://rickwierenga.com/blog/s4tf/s4tf-gan.html) I have written which explains them in more detail. See the last section \"Autoencoders and GANs\" of this notebook for more information on the beautiful relation between GANs and autoencoders."
      ]
    },
    {
      "cell_type": "markdown",
      "metadata": {
        "id": "3brAlL4D1BhP"
      },
      "source": [
        "Let's look at a convolutional encoder:"
      ]
    },
    {
      "cell_type": "code",
      "metadata": {
        "id": "S9r0Wzsa0vRK"
      },
      "source": [
        "encoder = keras.models.Sequential([\n",
        "    keras.layers.Reshape([28, 28, 1], input_shape=[28, 28]),\n",
        "    keras.layers.Conv2D(16, kernel_size=(3, 3), padding=\"same\", activation=\"relu\"),\n",
        "    keras.layers.MaxPool2D(pool_size=2),\n",
        "    keras.layers.Conv2D(32, kernel_size=(3, 3), padding=\"same\", activation=\"relu\"),\n",
        "    keras.layers.MaxPool2D(pool_size=2),\n",
        "    keras.layers.Conv2D(64, kernel_size=(3, 3), padding=\"same\", activation=\"relu\"),\n",
        "    keras.layers.MaxPool2D(pool_size=2)\n",
        "])"
      ],
      "execution_count": null,
      "outputs": []
    },
    {
      "cell_type": "code",
      "metadata": {
        "id": "inGKQCK1kjC7"
      },
      "source": [
        "x_train = x_train + ((np.random.random(x_train.shape)) / 4)\n",
        "x_test = x_test + ((np.random.random(x_test.shape)) / 4)"
      ],
      "execution_count": 23,
      "outputs": []
    },
    {
      "cell_type": "markdown",
      "metadata": {
        "id": "QInLjLNV1Gz6"
      },
      "source": [
        "The weights learnt by this encoder could be copied to the classifier."
      ]
    },
    {
      "cell_type": "code",
      "metadata": {
        "colab": {
          "base_uri": "https://localhost:8080/"
        },
        "id": "qFkh0zyA1akP",
        "outputId": "746c3e88-e0c5-403d-a316-249fd63083ef"
      },
      "source": [
        "encoder.predict(x_test[0].reshape((1, 28, 28))).shape"
      ],
      "execution_count": null,
      "outputs": [
        {
          "output_type": "execute_result",
          "data": {
            "text/plain": [
              "(1, 3, 3, 64)"
            ]
          },
          "metadata": {},
          "execution_count": 9
        }
      ]
    },
    {
      "cell_type": "markdown",
      "metadata": {
        "id": "fuO3jfwe1Q-y"
      },
      "source": [
        "Notice how $z \\in \\mathbb{R}^{1 \\times 3 \\times 3 \\times 64}$. Now we build its counterpart, the decoder, with transposed convolutional layers to recreate a grayscale $28 \\times 28$ image."
      ]
    },
    {
      "cell_type": "code",
      "metadata": {
        "id": "fQbQitegiqrK",
        "colab": {
          "base_uri": "https://localhost:8080/"
        },
        "outputId": "12b752e3-b67d-4179-dcea-ae591617c752"
      },
      "source": [
        "decoder = keras.models.Sequential([\n",
        "    keras.layers.Conv2DTranspose(32, kernel_size=(3, 3), strides=2, padding=\"valid\",\n",
        "                                 activation=\"relu\",\n",
        "                                 input_shape=[3, 3, 64]),\n",
        "    keras.layers.Conv2DTranspose(16, kernel_size=(3, 3), strides=2, padding=\"same\",\n",
        "                                 activation=\"relu\"),\n",
        "    keras.layers.Conv2DTranspose(1, kernel_size=(3, 3), strides=2, padding=\"same\",\n",
        "                                 activation=\"sigmoid\"),\n",
        "    keras.layers.Reshape([28, 28])\n",
        "])\n",
        "decoder.summary()"
      ],
      "execution_count": 12,
      "outputs": [
        {
          "output_type": "stream",
          "name": "stdout",
          "text": [
            "Model: \"sequential_7\"\n",
            "_________________________________________________________________\n",
            " Layer (type)                Output Shape              Param #   \n",
            "=================================================================\n",
            " conv2d_transpose_18 (Conv2D  (None, 7, 7, 32)         18464     \n",
            " Transpose)                                                      \n",
            "                                                                 \n",
            " conv2d_transpose_19 (Conv2D  (None, 14, 14, 16)       4624      \n",
            " Transpose)                                                      \n",
            "                                                                 \n",
            " conv2d_transpose_20 (Conv2D  (None, 28, 28, 1)        145       \n",
            " Transpose)                                                      \n",
            "                                                                 \n",
            " reshape_5 (Reshape)         (None, 28, 28)            0         \n",
            "                                                                 \n",
            "=================================================================\n",
            "Total params: 23,233\n",
            "Trainable params: 23,233\n",
            "Non-trainable params: 0\n",
            "_________________________________________________________________\n"
          ]
        }
      ]
    },
    {
      "cell_type": "code",
      "metadata": {
        "id": "VbexhKjN1vBX"
      },
      "source": [
        "stacked_autoencoder = keras.models.Sequential([encoder, decoder])"
      ],
      "execution_count": null,
      "outputs": []
    },
    {
      "cell_type": "code",
      "metadata": {
        "id": "30DUbxUk1r9S"
      },
      "source": [
        "stacked_autoencoder.compile(loss=\"binary_crossentropy\",\n",
        "                            optimizer='adam')"
      ],
      "execution_count": null,
      "outputs": []
    },
    {
      "cell_type": "code",
      "metadata": {
        "colab": {
          "base_uri": "https://localhost:8080/"
        },
        "id": "NCstnS7BeNis",
        "outputId": "18194fe5-84cf-4daf-85a7-d0dd5463ddb6"
      },
      "source": [
        "history = stacked_autoencoder.fit(x_train, x_train, epochs=10,\n",
        "                         validation_data=[x_test, x_test])"
      ],
      "execution_count": null,
      "outputs": [
        {
          "output_type": "stream",
          "name": "stdout",
          "text": [
            "Epoch 1/10\n",
            "1875/1875 [==============================] - 16s 7ms/step - loss: 0.3655 - val_loss: 0.3076\n",
            "Epoch 2/10\n",
            "1875/1875 [==============================] - 13s 7ms/step - loss: 0.2999 - val_loss: 0.2814\n",
            "Epoch 3/10\n",
            "1875/1875 [==============================] - 13s 7ms/step - loss: 0.2822 - val_loss: 0.2690\n",
            "Epoch 4/10\n",
            "1875/1875 [==============================] - 13s 7ms/step - loss: 0.2718 - val_loss: 0.2613\n",
            "Epoch 5/10\n",
            "1875/1875 [==============================] - 13s 7ms/step - loss: 0.2644 - val_loss: 0.2559\n",
            "Epoch 6/10\n",
            "1875/1875 [==============================] - 13s 7ms/step - loss: 0.2600 - val_loss: 0.2518\n",
            "Epoch 7/10\n",
            "1875/1875 [==============================] - 13s 7ms/step - loss: 0.2562 - val_loss: 0.2485\n",
            "Epoch 8/10\n",
            "1875/1875 [==============================] - 13s 7ms/step - loss: 0.2533 - val_loss: 0.2468\n",
            "Epoch 9/10\n",
            "1875/1875 [==============================] - 13s 7ms/step - loss: 0.2509 - val_loss: 0.2444\n",
            "Epoch 10/10\n",
            "1875/1875 [==============================] - 13s 7ms/step - loss: 0.2492 - val_loss: 0.2426\n"
          ]
        }
      ]
    },
    {
      "cell_type": "code",
      "metadata": {
        "colab": {
          "base_uri": "https://localhost:8080/",
          "height": 294
        },
        "id": "uV5ozBgpivuO",
        "outputId": "ee4e24f3-b13e-469c-f593-9dd9287615be"
      },
      "source": [
        "figsize(20, 5)\n",
        "for i in range(8):\n",
        "  subplot(2, 8, i+1)\n",
        "  pred = stacked_autoencoder.predict(x_test[i].reshape((1, 28, 28)))\n",
        "  imshow(x_test[i], cmap=\"binary\")\n",
        "\n",
        "  subplot(2, 8, i+8+1)\n",
        "  imshow(pred.reshape((28, 28)), cmap=\"binary\")"
      ],
      "execution_count": null,
      "outputs": [
        {
          "output_type": "display_data",
          "data": {
            "image/png": "[encoded data removed]",
            "text/plain": [
              "<Figure size 1440x360 with 16 Axes>"
            ]
          },
          "metadata": {
            "needs_background": "light"
          }
        }
      ]
    },
    {
      "cell_type": "markdown",
      "source": [
        "### Auto-encoder with pretrained encoder"
      ],
      "metadata": {
        "id": "FsFQpQh5CKHX"
      }
    },
    {
      "cell_type": "markdown",
      "source": [
        "Les images sont en grayscale (n_channels=1), on peut utiliser cv2 pour les rendre en rgb, ou concatener les images pour avoir 3 canaux (28, 28, 3):"
      ],
      "metadata": {
        "id": "8TlfQoHHLJJy"
      }
    },
    {
      "cell_type": "code",
      "source": [
        "x_train_reshaped = np.reshape(x_train, (x_train.shape[0], x_train.shape[1], x_train.shape[2], 1))\n",
        "x_train_rgb = np.concatenate((x_train_reshaped, x_train_reshaped, x_train_reshaped), axis=3)"
      ],
      "metadata": {
        "id": "-7O0RgHCHmaS"
      },
      "execution_count": 6,
      "outputs": []
    },
    {
      "cell_type": "code",
      "source": [
        "x_test_reshaped = np.reshape(x_test, (x_test.shape[0], x_test.shape[1], x_test.shape[2], 1))\n",
        "x_test_rgb = np.concatenate((x_test_reshaped, x_test_reshaped, x_test_reshaped), axis=3)"
      ],
      "metadata": {
        "id": "RlAsrj5HIT2n"
      },
      "execution_count": 7,
      "outputs": []
    },
    {
      "cell_type": "markdown",
      "source": [
        "Pour mettre les images dans le bon format (224, 224), on ajoute une layer keras de resizing, afin de profiter du GPU, et on enchaîne avec un encodeur VGG16 dont la partie dense est supprimée, puis un decoder personnalisé, pour avoir l'image en sortie (28, 28):"
      ],
      "metadata": {
        "id": "PB5HnMxIKwIN"
      }
    },
    {
      "cell_type": "code",
      "source": [
        "from tensorflow.keras.applications import VGG16\n",
        "\n",
        "batch_size=32\n",
        "preprocessing = keras.layers.Resizing(32, 32, input_shape=[28, 28, 3])\n",
        "\n",
        "encoder = VGG16(weights='imagenet',\n",
        "                  include_top=False,\n",
        "                  input_shape=(32, 32, 3))\n",
        "\n",
        "decoder = keras.models.Sequential([\n",
        "    keras.layers.Conv2DTranspose(32, kernel_size=(3, 3), strides=2, padding=\"valid\",\n",
        "                                 activation=\"relu\",\n",
        "                                 input_shape=[1, 1, 512]),\n",
        "    keras.layers.Conv2DTranspose(1, kernel_size=(3, 3), strides=2, padding=\"same\",\n",
        "                                 activation=\"sigmoid\"),\n",
        "    keras.layers.Resizing(28, 28),\n",
        "    keras.layers.Reshape([28, 28])\n",
        "])\n",
        "\n",
        "stacked_autoencoder = keras.models.Sequential([preprocessing, encoder, decoder])\n",
        "stacked_autoencoder.summary()\n"
      ],
      "metadata": {
        "colab": {
          "base_uri": "https://localhost:8080/"
        },
        "id": "qSoh7911ChQs",
        "outputId": "a2b1d14f-37bc-4229-cdde-7e9744ab64d6"
      },
      "execution_count": 8,
      "outputs": [
        {
          "output_type": "stream",
          "name": "stdout",
          "text": [
            "Downloading data from https://storage.googleapis.com/tensorflow/keras-applications/vgg16/vgg16_weights_tf_dim_ordering_tf_kernels_notop.h5\n",
            "58889256/58889256 [==============================] - 4s 0us/step\n",
            "Model: \"sequential_1\"\n",
            "_________________________________________________________________\n",
            " Layer (type)                Output Shape              Param #   \n",
            "=================================================================\n",
            " resizing (Resizing)         (None, 32, 32, 3)         0         \n",
            "                                                                 \n",
            " vgg16 (Functional)          (None, 1, 1, 512)         14714688  \n",
            "                                                                 \n",
            " sequential (Sequential)     (None, 28, 28)            147777    \n",
            "                                                                 \n",
            "=================================================================\n",
            "Total params: 14,862,465\n",
            "Trainable params: 14,862,465\n",
            "Non-trainable params: 0\n",
            "_________________________________________________________________\n"
          ]
        }
      ]
    },
    {
      "cell_type": "code",
      "source": [
        "stacked_autoencoder.compile(loss=\"binary_crossentropy\", optimizer='adam')"
      ],
      "metadata": {
        "id": "XdGknoWVGpuA"
      },
      "execution_count": 9,
      "outputs": []
    },
    {
      "cell_type": "code",
      "source": [
        "history = stacked_autoencoder.fit(x_train_rgb, x_train, epochs=10,\n",
        "                         validation_data=[x_test_rgb, x_test])"
      ],
      "metadata": {
        "colab": {
          "base_uri": "https://localhost:8080/"
        },
        "id": "s-LDr9K1GsFu",
        "outputId": "9c9bf9ff-7dd7-47c9-d178-e0d10e77f304"
      },
      "execution_count": 10,
      "outputs": [
        {
          "output_type": "stream",
          "name": "stdout",
          "text": [
            "Epoch 1/10\n",
            "1875/1875 [==============================] - 64s 29ms/step - loss: 0.3236 - val_loss: 0.3094\n",
            "Epoch 2/10\n",
            "1875/1875 [==============================] - 55s 29ms/step - loss: 0.3082 - val_loss: 0.3078\n",
            "Epoch 3/10\n",
            "1875/1875 [==============================] - 55s 29ms/step - loss: 0.3074 - val_loss: 0.3078\n",
            "Epoch 4/10\n",
            "1875/1875 [==============================] - 55s 29ms/step - loss: 0.2053 - val_loss: 0.1998\n",
            "Epoch 5/10\n",
            "1875/1875 [==============================] - 55s 30ms/step - loss: 0.1997 - val_loss: 0.1995\n",
            "Epoch 6/10\n",
            "1875/1875 [==============================] - 55s 30ms/step - loss: 0.1992 - val_loss: 0.1970\n",
            "Epoch 7/10\n",
            "1875/1875 [==============================] - 55s 29ms/step - loss: 0.1968 - val_loss: 0.1965\n",
            "Epoch 8/10\n",
            "1875/1875 [==============================] - 55s 29ms/step - loss: 0.1965 - val_loss: 0.1964\n",
            "Epoch 9/10\n",
            "1875/1875 [==============================] - 55s 29ms/step - loss: 0.1964 - val_loss: 0.1964\n",
            "Epoch 10/10\n",
            "1875/1875 [==============================] - 57s 31ms/step - loss: 0.1963 - val_loss: 0.1962\n"
          ]
        }
      ]
    },
    {
      "cell_type": "code",
      "source": [
        "figsize(20, 5)\n",
        "for i in range(8):\n",
        "  subplot(2, 8, i+1)\n",
        "  pred = stacked_autoencoder.predict(x_test_rgb[i].reshape(1, 28, 28, 3))\n",
        "  imshow(x_test[i], cmap=\"binary\")\n",
        "\n",
        "  subplot(2, 8, i+8+1)\n",
        "  imshow(pred.reshape((28, 28)), cmap=\"binary\")"
      ],
      "metadata": {
        "colab": {
          "base_uri": "https://localhost:8080/",
          "height": 462
        },
        "id": "N7PteulqGvff",
        "outputId": "c74bfcbb-db13-4e2b-97b3-61902d461d7b"
      },
      "execution_count": 21,
      "outputs": [
        {
          "output_type": "stream",
          "name": "stdout",
          "text": [
            "1/1 [==============================] - 0s 16ms/step\n",
            "1/1 [==============================] - 0s 15ms/step\n",
            "1/1 [==============================] - 0s 15ms/step\n",
            "1/1 [==============================] - 0s 16ms/step\n",
            "1/1 [==============================] - 0s 17ms/step\n",
            "1/1 [==============================] - 0s 17ms/step\n",
            "1/1 [==============================] - 0s 17ms/step\n",
            "1/1 [==============================] - 0s 16ms/step\n"
          ]
        },
        {
          "output_type": "display_data",
          "data": {
            "text/plain": [
              "<Figure size 1440x360 with 16 Axes>"
            ],
            "image/png": "[encoded data removed]"
          },
          "metadata": {
            "needs_background": "light"
          }
        }
      ]
    },
    {
      "cell_type": "markdown",
      "source": [
        "Nous avons des résultats moins intéressants que les résultats précédents. Pour certaines applications (assez rares), l'usage d'un modèles pré-entraîné n'est pas la meilleure solution. Ici, le modèle a du apprendre 15Millions de paramètres à partir de 6000 images. Le modèle n'a pas pu apprendre assez (underfitting), même si la loss est bien inférieure à 0.2"
      ],
      "metadata": {
        "id": "CzMV6CMZV6rh"
      }
    },
    {
      "cell_type": "code",
      "source": [
        "figsize(10, 5)\n",
        "\n",
        "plot(history.history[\"val_loss\"], label=\"validation loss\")\n",
        "plot(history.history[\"loss\"], label=\"train loss\")\n",
        "title(\"Loss on training and validation sets\")\n",
        "legend()\n",
        "grid()\n",
        "show()"
      ],
      "metadata": {
        "colab": {
          "base_uri": "https://localhost:8080/",
          "height": 336
        },
        "id": "qI41D4lfS_gW",
        "outputId": "c2cd5c9c-2f0e-4f18-fbef-b1201ce6f4bc"
      },
      "execution_count": 20,
      "outputs": [
        {
          "output_type": "display_data",
          "data": {
            "text/plain": [
              "<Figure size 720x360 with 1 Axes>"
            ],
            "image/png": "[encoded data removed]"
          },
          "metadata": {
            "needs_background": "light"
          }
        }
      ]
    },
    {
      "cell_type": "code",
      "source": [],
      "metadata": {
        "id": "M112Gne7WkYc"
      },
      "execution_count": null,
      "outputs": []
    }
  ]
}